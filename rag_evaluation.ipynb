{
 "cells": [
  {
   "cell_type": "markdown",
   "metadata": {},
   "source": [
    "# Retrieval-Augmented Generation (RAG) Evaluation"
   ]
  },
  {
   "cell_type": "markdown",
   "metadata": {},
   "source": [
    "- Framework: https://dspy-docs.vercel.app/\n",
    "- VectorDB: https://github.com/chroma-core/chroma\n",
    "- LLM: https://huggingface.co/mistralai/Mixtral-8x7B-Instruct-v0.1"
   ]
  },
  {
   "cell_type": "code",
   "execution_count": 1,
   "metadata": {},
   "outputs": [],
   "source": [
    "import os\n",
    "\n",
    "from dspy.retrieve.chromadb_rm import ChromadbRM\n",
    "import chromadb\n",
    "from chromadb.utils import embedding_functions\n",
    "import dspy\n",
    "\n",
    "from tqdm import tqdm\n",
    "import json\n",
    "import pickle\n",
    "import pandas as pd\n",
    "\n",
    "\n",
    "os.environ[\"DSP_NOTEBOOK_CACHEDIR\"] = '/data01/alocaputo/.cache'"
   ]
  },
  {
   "cell_type": "markdown",
   "metadata": {},
   "source": [
    "### Auxiliary functions"
   ]
  },
  {
   "cell_type": "markdown",
   "metadata": {},
   "source": [
    "From: https://github.com/google-deepmind/ithaca/blob/ced13193aaa52e49a2388c9ace0244e9a24e6d42/ithaca/eval/inference.py"
   ]
  },
  {
   "cell_type": "code",
   "execution_count": 2,
   "metadata": {},
   "outputs": [],
   "source": [
    "# Copyright 2021 the Ithaca Authors\n",
    "#\n",
    "# Licensed under the Apache License, Version 2.0 (the \"License\");\n",
    "# you may not use this file except in compliance with the License.\n",
    "# You may obtain a copy of the License at\n",
    "#\n",
    "#     https://www.apache.org/licenses/LICENSE-2.0\n",
    "#\n",
    "# Unless required by applicable law or agreed to in writing, software\n",
    "# distributed under the License is distributed on an \"AS IS\" BASIS,\n",
    "# WITHOUT WARRANTIES OR CONDITIONS OF ANY KIND, either express or implied.\n",
    "# See the License for the specific language governing permissions and\n",
    "# limitations under the License.\n",
    "\n",
    "import jax\n",
    "import re\n",
    "import functools\n",
    "import pickle\n",
    "\n",
    "from absl import app\n",
    "from absl import flags\n",
    "from ithaca.eval import inference\n",
    "from ithaca.models.model import Model\n",
    "from ithaca.util.alphabet import GreekAlphabet\n",
    "\n",
    "import ithaca.util.text as util_text\n",
    "import numpy as np\n",
    "import json\n",
    "from tqdm import tqdm\n",
    "import argparse\n",
    "import os\n",
    "\n",
    "MIN_TEXT_LEN = 50\n",
    "TEXT_LEN = 768  # fixed model sequence length\n",
    "DATE_MIN = -800\n",
    "DATE_MAX = 800\n",
    "DATE_INTERVAL = 10\n",
    "RESTORATION_BEAM_WIDTH = 20\n",
    "RESTORATION_TEMPERATURE = 1.\n",
    "SEED = 1\n",
    "ALPHABET_MISSING_RESTORE = '?'  # missing characters to restor\n",
    "\n",
    "\n",
    "def prepare_text(text, alphabet):\n",
    "  \"\"\"Adds start of sequence symbol, and padding.\n",
    "\n",
    "  Also strips accents if present, trims whitespace, and generates arrays ready\n",
    "  for input into the model.\n",
    "\n",
    "  Args:\n",
    "    text: Raw text input string, no padding or start of sequence symbol.\n",
    "    alphabet: GreekAlphabet object containing index/character mappings.\n",
    "\n",
    "  Returns:\n",
    "    Tuple of cleaned text (str), padded text (str), char indices (array of batch\n",
    "    size 1), word indices (array of batch size 1), text length (list of size 1)\n",
    "  \"\"\"\n",
    "  if type(text) == list:\n",
    "    text = text[0]\n",
    "  text = re.sub(r'\\s+', ' ', text.strip())\n",
    "  text = util_text.strip_accents(text)\n",
    "\n",
    "  if len(text) < MIN_TEXT_LEN:\n",
    "    raise ValueError('Input text too short.')\n",
    "\n",
    "  if len(text) >= TEXT_LEN - 1:\n",
    "    raise ValueError('Input text too long.')\n",
    "\n",
    "  text_sos = alphabet.sos + text\n",
    "  text_len = [len(text_sos)]  # includes SOS, but not padding\n",
    "\n",
    "  text_padded = text_sos + alphabet.pad * max(0, TEXT_LEN - len(text_sos))\n",
    "\n",
    "  restore_mask_idx = [\n",
    "      i for i, c in enumerate(text_padded) if c == ALPHABET_MISSING_RESTORE\n",
    "  ]\n",
    "  text_padded = text_padded.replace(ALPHABET_MISSING_RESTORE, alphabet.missing)\n",
    "\n",
    "  text_char = util_text.text_to_idx(text_padded, alphabet).reshape(1, -1)\n",
    "  text_word = util_text.text_to_word_idx(text_padded, alphabet).reshape(1, -1)\n",
    "  padding = np.where(text_char > 0, 1, 0)\n",
    "\n",
    "  return (text, text_sos, text_padded, text_char, text_word, text_len, padding,\n",
    "          restore_mask_idx)\n",
    "\n",
    "from ithaca.util.alphabet import GreekAlphabet\n",
    "def load_checkpoint(path):\n",
    "  \"\"\"Loads a checkpoint pickle.\n",
    "\n",
    "  Args:\n",
    "    path: path to checkpoint pickle\n",
    "\n",
    "  Returns:\n",
    "    a model config dictionary (arguments to the model's constructor), a dict of\n",
    "    dicts containing region mapping information, a GreekAlphabet instance with\n",
    "    indices and words populated from the checkpoint, a dict of Jax arrays\n",
    "    `params`, and a `forward` function.\n",
    "  \"\"\"\n",
    "\n",
    "  # Pickled checkpoint dict containing params and various config:\n",
    "  with open(path, 'rb') as f:\n",
    "    checkpoint = pickle.load(f)\n",
    "\n",
    "  # We reconstruct the model using the same arguments as during training, which\n",
    "  # are saved as a dict in the \"model_config\" key, and construct a `forward`\n",
    "  # function of the form required by attribute() and restore().\n",
    "  params = jax.device_put(checkpoint['params'])\n",
    "  model = Model(**checkpoint['model_config'])\n",
    "  forward = functools.partial(model.apply, params)\n",
    "\n",
    "  # Contains the mapping between region IDs and names:\n",
    "  region_map = checkpoint['region_map']\n",
    "\n",
    "  # Use vocabulary mapping from the checkpoint, the rest of the values in the\n",
    "  # class are fixed and constant e.g. the padding symbol\n",
    "  alphabet = GreekAlphabet()\n",
    "  alphabet.idx2word = checkpoint['alphabet']['idx2word']\n",
    "  alphabet.word2idx = checkpoint['alphabet']['word2idx']\n",
    "\n",
    "  return checkpoint['model_config'], region_map, alphabet, params, forward\n",
    "\n",
    "def attribute(text, forward, params, alphabet, vocab_char_size, vocab_word_size, region_map):\n",
    "  \"\"\"Computes predicted date and geographical region.\"\"\"\n",
    "  (text, _, _, text_char, text_word, text_len, padding,\n",
    "   _) = prepare_text(text, alphabet)\n",
    "\n",
    "  rng = jax.random.PRNGKey(SEED)\n",
    "  date_logits, subregion_logits, mask_logits, nsp_logits = forward(\n",
    "      text_char=text_char,\n",
    "      text_word=text_word,\n",
    "      rngs={'dropout': rng},\n",
    "      is_training=False)\n",
    "    \n",
    "  return mask_logits"
   ]
  },
  {
   "cell_type": "markdown",
   "metadata": {},
   "source": [
    "Compute Ithaca's embeddings"
   ]
  },
  {
   "cell_type": "code",
   "execution_count": 3,
   "metadata": {},
   "outputs": [],
   "source": [
    "def compute_emb(input_text, cuda_id):\n",
    "\n",
    "    os.environ[\"CUDA_VISIBLE_DEVICES\"] = cuda_id\n",
    "\n",
    "    # if not 50 <= len(input_text) <= 750:\n",
    "    #     continue\n",
    "\n",
    "    (model_config, region_map, alphabet, params,\n",
    "    forward) = load_checkpoint('../ithaca/checkpoint.pkl')\n",
    "    vocab_char_size = model_config['vocab_char_size']\n",
    "    vocab_word_size = model_config['vocab_word_size']\n",
    "    mask_logits = attribute(\n",
    "        input_text,\n",
    "        forward=forward,\n",
    "        params=params,\n",
    "        alphabet=alphabet,\n",
    "        region_map=region_map,\n",
    "        vocab_char_size=vocab_char_size,\n",
    "        vocab_word_size=vocab_word_size)\n",
    "\n",
    "    return mask_logits[0].mean(axis=1).tolist()"
   ]
  },
  {
   "cell_type": "markdown",
   "metadata": {},
   "source": [
    "## Data preparation"
   ]
  },
  {
   "cell_type": "markdown",
   "metadata": {},
   "source": [
    "Ithaca's embedding function for chromaDB"
   ]
  },
  {
   "cell_type": "code",
   "execution_count": 4,
   "metadata": {},
   "outputs": [],
   "source": [
    "from chromadb import Documents, EmbeddingFunction, Embeddings\n",
    "\n",
    "class IthacaEmbeddingFunction(EmbeddingFunction):\n",
    "    def __call__(self, input: Documents) -> Embeddings:\n",
    "        return compute_emb(input, '0')\n",
    "\n",
    "ithacaEF = IthacaEmbeddingFunction()"
   ]
  },
  {
   "cell_type": "markdown",
   "metadata": {},
   "source": [
    "Store the trainset's embedding in ChromaDB.\n",
    "\n",
    "The trainset contains only the archaic inscriptions."
   ]
  },
  {
   "cell_type": "code",
   "execution_count": 5,
   "metadata": {},
   "outputs": [],
   "source": [
    "chroma_exist = True\n",
    "collection_name = 'archaic_train'\n",
    "\n",
    "chroma_client = chromadb.PersistentClient(path=\"data/chroma/iphi\")\n",
    "#chroma_client.delete_collection(name=file_name)\n",
    "\n",
    "if chroma_exist:\n",
    "    collection = chroma_client.get_collection(name=collection_name)\n",
    "else:\n",
    "    collection = chroma_client.create_collection(name=collection_name)\n",
    "\n",
    "\n",
    "    dataset = json.load(open(f'data/archaic/train.json', 'r'))\n",
    "    dataset_c = [ x for x in dataset if 50 <= len(x['text']) <= 750]\n",
    "\n",
    "    #precomputed_embeddings = pickle.load(open(f'data/embeddings/ithaca/iphi_train.pkl', \"rb\"))\n",
    "\n",
    "    for d in tqdm(dataset_c):\n",
    "        phi_id = d['id']\n",
    "        #try:\n",
    "        #    emb = precomputed_embeddings[phi_id][0].mean(axis=1).tolist()\n",
    "        #except:\n",
    "        emb = ithacaEF(d['text'])\n",
    "        text = d['text']\n",
    "\n",
    "        metadata = str(d['metadata'])\n",
    "        region_main_id = str(d['region_main_id'])\n",
    "        region_main = str(d['region_main'])\n",
    "        region_sub_id = str(d['region_sub_id'])\n",
    "        region_sub = str(d['region_sub'])\n",
    "        date_str = str(d['date_str'])\n",
    "        date_min = str(d['date_min'])\n",
    "        date_max = str(d['date_max'])\n",
    "        date_circa = str(d['date_circa'])\n",
    "        \n",
    "        metadatas = {'metadata': metadata,\n",
    "                    'region_main_id': region_main_id,\n",
    "                    'region_main': region_main,\n",
    "                    'region_sub_id': region_sub_id,\n",
    "                    'region_sub': region_sub,\n",
    "                    'date_str': date_str,\n",
    "                    'date_min': date_min,\n",
    "                    'date_max': date_max,\n",
    "                    'date_circa': date_circa}\n",
    "        collection.add(\n",
    "        embeddings=emb,\n",
    "        documents=[text],\n",
    "        metadatas=[metadatas],\n",
    "        ids=[str(phi_id)])"
   ]
  },
  {
   "cell_type": "markdown",
   "metadata": {},
   "source": [
    "Load the trainset, testset and validation set for dspy"
   ]
  },
  {
   "cell_type": "code",
   "execution_count": 6,
   "metadata": {},
   "outputs": [],
   "source": [
    "from dspy.datasets.dataset import Dataset\n",
    "\n",
    "class IthacaDataset(Dataset):\n",
    "    def __init__(self, *args, **kwargs) -> None:\n",
    "        super().__init__(*args, **kwargs)\n",
    "\n",
    "        df_test = pd.read_json('data/archaic/test_common.json')\n",
    "        df_test = df_test[['id', 'dialect','masked_gt', 'masked_ithaca']]\n",
    "        df_test.columns = ['id', 'dialect', 'answer', 'question']\n",
    "        self._test = df_test.to_dict(orient='records')\n",
    "\n",
    "\n",
    "class IthacaDatasetVal(Dataset):\n",
    "    def __init__(self, *args, **kwargs) -> None:\n",
    "        super().__init__(*args, **kwargs)\n",
    "\n",
    "        df_train = pd.read_json('data/archaic/validation_common.json')\n",
    "        df_train = df_train[['id', 'dialect','masked_gt', 'masked_ithaca']]\n",
    "        df_train.columns = ['id', 'dialect', 'answer', 'question']\n",
    "        self._train = df_train.to_dict(orient='records')\n",
    "\n",
    "dataset = IthacaDataset()\n",
    "\n",
    "testset = [x.with_inputs('question') for x in dataset.test if len(x['question']) <= 750]\n",
    "\n",
    "dataset_val = IthacaDatasetVal()\n",
    "valset = [x.with_inputs('question') for x in dataset_val.train if len(x['question']) <= 750]"
   ]
  },
  {
   "cell_type": "markdown",
   "metadata": {},
   "source": [
    "## Load the model"
   ]
  },
  {
   "cell_type": "markdown",
   "metadata": {},
   "source": [
    "Using [Text Generation Inference](https://github.com/huggingface/text-generation-inference) to serve the LLM."
   ]
  },
  {
   "cell_type": "code",
   "execution_count": 7,
   "metadata": {},
   "outputs": [],
   "source": [
    "model_name = \"mistralai/Mixtral-8x7B-Instruct-v0.1\"\n",
    "\n",
    "mixtral_llm = dspy.HFClientTGI(model = model_name, port=3000, url=\"http://158.110.146.233\", **{\"max_tokens\": 25, 'seed': 0})\n",
    "\n",
    "rm = ChromadbRM(collection_name='archaic_train', persist_directory=\"data/chroma/iphi\", embedding_function=ithacaEF)\n",
    "\n",
    "dspy.settings.configure(lm=mixtral_llm, rm=rm)"
   ]
  },
  {
   "cell_type": "code",
   "execution_count": 8,
   "metadata": {},
   "outputs": [],
   "source": [
    "class BasicRestorationNoContext(dspy.Signature):\n",
    "    \"\"\"You are given a fragmentary Greek inscription with missing text indicated by question marks. Your task is to fill in the missing characters of the inscription based on your understanding of ancient Greek language, grammar, and context.\n",
    "    Do not replace characters that are not question marks\"\"\"\n",
    "\n",
    "    inscription = dspy.InputField(desc='Every question mark corresponds to a missing character or a white space')\n",
    "    restoration = dspy.OutputField(desc=\"The filled part of the text; It should be a sequence of Ancient Greek letters and possibly spaces; It must be between 1 and 10 characters long.\")"
   ]
  },
  {
   "cell_type": "code",
   "execution_count": 9,
   "metadata": {},
   "outputs": [],
   "source": [
    "class BasicRestoration(dspy.Signature):\n",
    "    \"\"\"You are given a fragmentary Greek inscription with missing text indicated by question marks. Your task is to fill in the missing characters of the inscription based on your understanding of ancient Greek language, grammar, and context.\n",
    "    Do not replace characters that are not question marks\"\"\"\n",
    "\n",
    "    inscription = dspy.InputField(desc='Every question mark corresponds to a missing character or a white space')\n",
    "    context = dspy.InputField()\n",
    "    restoration = dspy.OutputField(desc=\"The filled part of the text; It should be a sequence of Ancient Greek letters and possibly spaces; It must be between 1 and 10 characters long.\")"
   ]
  },
  {
   "cell_type": "code",
   "execution_count": 10,
   "metadata": {},
   "outputs": [],
   "source": [
    "class ZEROSHOT(dspy.Module):\n",
    "    def __init__(self):\n",
    "        super().__init__()\n",
    "        self.generate_answer = dspy.Predict(BasicRestorationNoContext)\n",
    "    \n",
    "    def forward(self, question):\n",
    "        inscription = question\n",
    "        \n",
    "        prediction = self.generate_answer(inscription=inscription)\n",
    "        return dspy.Prediction(restoration=prediction.restoration)"
   ]
  },
  {
   "cell_type": "code",
   "execution_count": 11,
   "metadata": {},
   "outputs": [],
   "source": [
    "class RAG(dspy.Module):\n",
    "    def __init__(self, num_passages=3):\n",
    "        super().__init__()\n",
    "\n",
    "        self.retrieve = dspy.Retrieve(k=num_passages)\n",
    "        self.generate_answer = dspy.Predict(BasicRestoration)\n",
    "    \n",
    "    def forward(self, question):\n",
    "        inscription = question\n",
    "        context = self.retrieve(inscription).passages\n",
    "\n",
    "        prediction = self.generate_answer(context=context, inscription=inscription)\n",
    "        return dspy.Prediction(context=context, restoration=prediction.restoration)"
   ]
  },
  {
   "cell_type": "markdown",
   "metadata": {},
   "source": [
    "## Metrics"
   ]
  },
  {
   "cell_type": "code",
   "execution_count": 12,
   "metadata": {},
   "outputs": [],
   "source": [
    "import editdistance\n",
    "\n",
    "\n",
    "def edit_distance(example, pred, threshold=0.8, trace=None):\n",
    "    \"\"\"\n",
    "    Compute the edit distance between the ground truth and the prediction and check if it is below a certain threshold.\n",
    "    Output: True if the edit distance is below the threshold, False otherwise.\n",
    "    \"\"\"\n",
    "    gt = example.answer.lower()\n",
    "    pred = pred.restoration.lower()\n",
    "\n",
    "    ed = editdistance.eval(pred, gt) / max(len(gt), len(pred))\n",
    "    return ed <= threshold\n",
    "\n",
    "def is_same_length(example, pred, trace=None):\n",
    "    \"\"\"\n",
    "    Check if the length of the prediction is the same as the length of the ground truth.\n",
    "    Output: True if the lengths are the same, False otherwise.\n",
    "    \"\"\"\n",
    "    return example.question.count('?') == len(pred.restoration)\n",
    "\n",
    "def exact_match(example, pred, trace=None):\n",
    "    \"\"\"\n",
    "    Check if the prediction is exactly the same as the ground truth.\n",
    "    Output: True if the prediction is exactly the same as the ground truth, False otherwise.\n",
    "    \"\"\"\n",
    "    return example.answer.lower() == pred.restoration.lower()\n",
    "\n",
    "def validate_lenght_and_cer(example, pred, trace=None):\n",
    "    \"\"\"\n",
    "    Check if the length of the prediction is the same as the length of the ground truth and if the Character Error Rate (CER) is below a certain threshold.\n",
    "    Output: True if the lengths are the same and the CER is below the threshold, False otherwise.\n",
    "    \"\"\"\n",
    "    same_length = is_same_length(example, pred)\n",
    "    edit_dist = edit_distance(example, pred, 0.8)\n",
    "    return same_length and edit_dist "
   ]
  },
  {
   "cell_type": "markdown",
   "metadata": {},
   "source": [
    "## Evalutation"
   ]
  },
  {
   "cell_type": "markdown",
   "metadata": {},
   "source": [
    "**Zeroshot**: Use the LLM to restore the inscription without providing additional information."
   ]
  },
  {
   "cell_type": "code",
   "execution_count": 13,
   "metadata": {},
   "outputs": [],
   "source": [
    "dialects = ['atticionic', 'doric', 'northwest', 'aeolic']\n",
    "max_l = 30"
   ]
  },
  {
   "cell_type": "code",
   "execution_count": 14,
   "metadata": {},
   "outputs": [],
   "source": [
    "def print_and_save_results(dialects, acc1, editd, max_l, name):\n",
    "    for dialect in dialects:\n",
    "        print(f\"======== {dialect} ========\")\n",
    "        print(f'CER  : {np.mean([np.mean(v) for v in editd[dialect].values() if v])*100:.2f}%')\n",
    "        print(f'ACC1 : {np.mean([np.mean(v) for v in acc1[dialect].values() if v])*100:.2f}%')\n",
    "\n",
    "    print(f\"======== TOTAL ========\")\n",
    "    cert = { x: [] for x in range(1, max_l+1)}\n",
    "    for k, vs in editd.items():\n",
    "        for kk, v in vs.items():\n",
    "            cert[kk].extend(v)\n",
    "    acc1t = { x: [] for x in range(1, max_l+1)}\n",
    "    for k, vs in acc1.items():\n",
    "        for kk, v in vs.items():\n",
    "            acc1t[kk].extend(v)\n",
    "            \n",
    "    print(f'CER : {np.mean([np.mean(v) for v in cert.values() if v])*100:.2f}%')\n",
    "    print(f'ACC1 : {np.mean([np.mean(v) for v in acc1t.values() if v])*100:.2f}%')\n",
    "\n",
    "    with open(f'{name}_editd.json', 'w') as f:\n",
    "        json.dump(editd, f)\n",
    "\n",
    "    with open(f'{name}_acc1.json', 'w') as f:\n",
    "        json.dump(acc1, f)"
   ]
  },
  {
   "cell_type": "code",
   "execution_count": 24,
   "metadata": {},
   "outputs": [
    {
     "name": "stderr",
     "output_type": "stream",
     "text": [
      "100%|██████████| 95/95 [00:23<00:00,  3.97it/s]"
     ]
    },
    {
     "name": "stdout",
     "output_type": "stream",
     "text": [
      "======== atticionic ========\n",
      "CER  : 235.89%\n",
      "ACC1 : 0.00%\n",
      "======== doric ========\n",
      "CER  : 298.34%\n",
      "ACC1 : 0.00%\n",
      "======== northwest ========\n",
      "CER  : 496.67%\n",
      "ACC1 : 0.00%\n",
      "======== aeolic ========\n",
      "CER  : 160.83%\n",
      "ACC1 : 0.00%\n",
      "======== TOTAL ========\n",
      "CER : 246.47%\n",
      "ACC1 : 0.00%\n"
     ]
    },
    {
     "name": "stderr",
     "output_type": "stream",
     "text": [
      "\n"
     ]
    }
   ],
   "source": [
    "editd = { d: { x: [] for x in range(1, max_l+1)} for d in dialects}\n",
    "acc1 = { d: { x: [] for x in range(1, max_l+1)} for d in dialects}\n",
    "acc20 = { d: { x: [] for x in range(1, max_l+1)} for d in dialects}\n",
    "correct_zs = []\n",
    "\n",
    "zeroshot = ZEROSHOT()\n",
    "answers = [ [] for x in testset]\n",
    "for ll, example in enumerate(tqdm(testset)):\n",
    "    \n",
    "    pred = zeroshot.forward(question=example.question)\n",
    "\n",
    "    gt = example.answer\n",
    "    i = example.question.index('?')\n",
    "    l = example.question.count('?')\n",
    "\n",
    "    dialect = example.dialect\n",
    "    \n",
    "    ground_truth = example.answer.lower()\n",
    "    text_prediction = pred.restoration.lower()\n",
    "    \n",
    "    ctop1 = 0\n",
    "    if ground_truth == text_prediction:\n",
    "        ctop1 = 1\n",
    "\n",
    "    acc1[dialect][l].append(ctop1)\n",
    "    #ed = editdistance.eval(text_prediction, ground_truth) / max(len(ground_truth), len(text_prediction))\n",
    "    ed = editdistance.eval(text_prediction, ground_truth) / len(ground_truth)\n",
    "    editd[dialect][l].append(ed)\n",
    "\n",
    "    correct_zs.append((len(text_prediction), len(ground_truth)))\n",
    "\n",
    "print_and_save_results(dialects, acc1, editd, max_l, \"zeroshot\")"
   ]
  },
  {
   "cell_type": "code",
   "execution_count": 15,
   "metadata": {},
   "outputs": [
    {
     "name": "stderr",
     "output_type": "stream",
     "text": [
      "100%|██████████| 95/95 [01:50<00:00,  1.16s/it]"
     ]
    },
    {
     "name": "stdout",
     "output_type": "stream",
     "text": [
      "======== atticionic ========\n",
      "CER  : 162.67%\n",
      "ACC1 : 8.60%\n",
      "======== doric ========\n",
      "CER  : 256.84%\n",
      "ACC1 : 10.00%\n",
      "======== northwest ========\n",
      "CER  : 276.67%\n",
      "ACC1 : 0.00%\n",
      "======== aeolic ========\n",
      "CER  : 105.83%\n",
      "ACC1 : 0.00%\n",
      "======== TOTAL ========\n",
      "CER : 166.53%\n",
      "ACC1 : 10.96%\n"
     ]
    },
    {
     "name": "stderr",
     "output_type": "stream",
     "text": [
      "\n"
     ]
    }
   ],
   "source": [
    "editd = { d: { x: [] for x in range(1, max_l+1)} for d in dialects}\n",
    "acc1 = { d: { x: [] for x in range(1, max_l+1)} for d in dialects}\n",
    "\n",
    "correct_rag = []\n",
    "\n",
    "rag = RAG()\n",
    "answers = [ [] for x in testset]\n",
    "for ll, example in enumerate(tqdm(testset)):\n",
    "    pred = rag.forward(question=example.question)\n",
    "    gt = example.answer\n",
    "    i = example.question.index('?')\n",
    "    l = example.question.count('?')\n",
    "\n",
    "    dialect = example.dialect\n",
    "    \n",
    "    ground_truth = example.answer.lower()\n",
    "    text_prediction = pred.restoration.lower()\n",
    "    \n",
    "\n",
    "    ctop1 = 0\n",
    "    ctop20 = 0\n",
    "    if ground_truth == text_prediction:\n",
    "        ctop1 = 1\n",
    "\n",
    "    ed = editdistance.eval(text_prediction, ground_truth) / len(ground_truth)\n",
    "    \n",
    "    acc1[dialect][l].append(ctop1)\n",
    "    editd[dialect][l].append(ed)\n",
    "    correct_rag.append((len(text_prediction), len(ground_truth)))\n",
    "\n",
    "print_and_save_results(dialects, acc1, editd, max_l, \"rag\")"
   ]
  },
  {
   "cell_type": "code",
   "execution_count": 16,
   "metadata": {},
   "outputs": [
    {
     "name": "stdout",
     "output_type": "stream",
     "text": [
      "/data01/alocaputo/.cache/compiler\n"
     ]
    },
    {
     "name": "stderr",
     "output_type": "stream",
     "text": [
      " 80%|███████▉  | 70/88 [01:16<00:19,  1.10s/it]"
     ]
    },
    {
     "name": "stdout",
     "output_type": "stream",
     "text": [
      "Bootstrapped 4 full traces after 71 examples in round 0.\n"
     ]
    },
    {
     "name": "stderr",
     "output_type": "stream",
     "text": [
      "\n"
     ]
    }
   ],
   "source": [
    "from dspy.teleprompt import BootstrapFewShot\n",
    "\n",
    "teleprompter = BootstrapFewShot(metric=validate_lenght_and_cer)\n",
    "compiled_rag = teleprompter.compile(RAG(), trainset=valset)"
   ]
  },
  {
   "cell_type": "code",
   "execution_count": 17,
   "metadata": {},
   "outputs": [
    {
     "name": "stderr",
     "output_type": "stream",
     "text": [
      "100%|██████████| 95/95 [01:55<00:00,  1.22s/it]"
     ]
    },
    {
     "name": "stdout",
     "output_type": "stream",
     "text": [
      "======== atticionic ========\n",
      "CER  : 146.92%\n",
      "ACC1 : 11.62%\n",
      "======== doric ========\n",
      "CER  : 187.77%\n",
      "ACC1 : 12.50%\n",
      "======== northwest ========\n",
      "CER  : 266.67%\n",
      "ACC1 : 0.00%\n",
      "======== aeolic ========\n",
      "CER  : 113.33%\n",
      "ACC1 : 0.00%\n",
      "======== TOTAL ========\n",
      "CER : 148.22%\n",
      "ACC1 : 13.46%\n"
     ]
    },
    {
     "name": "stderr",
     "output_type": "stream",
     "text": [
      "\n"
     ]
    }
   ],
   "source": [
    "editd = { d: { x: [] for x in range(1, max_l+1)} for d in dialects}\n",
    "acc1 = { d: { x: [] for x in range(1, max_l+1)} for d in dialects}\n",
    "correct_ic = []\n",
    "\n",
    "for example in tqdm(testset):\n",
    "    pred = compiled_rag(question=example.question)\n",
    "    gt = example.answer\n",
    "    i = example.question.index('?')\n",
    "    l = example.question.count('?')\n",
    "\n",
    "    dialect = example.dialect\n",
    "    \n",
    "    ground_truth = example.answer.lower()\n",
    "    text_prediction = pred.restoration.lower()\n",
    "\n",
    "    ctop1 = 0\n",
    "    ctop20 = 0\n",
    "    if ground_truth == text_prediction:\n",
    "        ctop1 = 1\n",
    "\n",
    "    acc1[dialect][l].append(ctop1)\n",
    "    \n",
    "    ed = editdistance.eval(text_prediction, ground_truth) / len(ground_truth)\n",
    "\n",
    "    editd[dialect][l].append(ed)\n",
    "    correct_ic.append((len(text_prediction), len(ground_truth)))\n",
    "\n",
    "print_and_save_results(dialects, acc1, editd, max_l, \"opt_rag\")"
   ]
  },
  {
   "cell_type": "code",
   "execution_count": 18,
   "metadata": {},
   "outputs": [],
   "source": [
    "from collections import Counter\n",
    "\n",
    "# Group all the values <= 10 and >= 10\n",
    "def process_differences(differences):\n",
    "    c = Counter(x[0] - x[1] for x in differences)\n",
    "    cx = {k: v for k, v in c.items() if -10 < k < 10}\n",
    "    cx['≥10'] = sum(v for k, v in c.items() if k >= 10)\n",
    "    cx['≤10'] = sum(v for k, v in c.items() if k <= -10)\n",
    "    return cx\n",
    "\n",
    "zs_cx = process_differences(correct_zs)\n",
    "rag_cx = process_differences(correct_rag)\n",
    "ic_cx = process_differences(correct_ic)"
   ]
  },
  {
   "cell_type": "code",
   "execution_count": 20,
   "metadata": {},
   "outputs": [
    {
     "name": "stderr",
     "output_type": "stream",
     "text": [
      "/tmp/ipykernel_912011/907073884.py:17: MatplotlibDeprecationWarning: The get_cmap function was deprecated in Matplotlib 3.7 and will be removed two minor releases later. Use ``matplotlib.colormaps[name]`` or ``matplotlib.colormaps.get_cmap(obj)`` instead.\n",
      "  colormap = cm.get_cmap('tab20')\n"
     ]
    },
    {
     "data": {
      "image/png": "[encoded data removed]",
      "text/plain": [
       "<Figure size 800x400 with 1 Axes>"
      ]
     },
     "metadata": {},
     "output_type": "display_data"
    }
   ],
   "source": [
    "import matplotlib.pyplot as plt\n",
    "import matplotlib.cm as cm\n",
    "\n",
    "bar_width = 0.25\n",
    "keys = ['≤10'] + list(range(-9, 10)) + ['≥10']\n",
    "\n",
    "zs_counts = [zs_cx.get(key, 0) for key in keys]\n",
    "rag_counts = [rag_cx.get(key, 0) for key in keys]\n",
    "ic_counts = [ic_cx.get(key, 0) for key in keys]\n",
    "\n",
    "r1 = range(len(keys))\n",
    "r2 = [x + bar_width for x in r1]\n",
    "r3 = [x + bar_width for x in r2]\n",
    "\n",
    "plt.figure(figsize=(8, 4))\n",
    "colormap = cm.get_cmap('tab20')\n",
    "\n",
    "plt.bar(r1, zs_counts, color=colormap(0.2), width=bar_width, edgecolor='black', label='Zero Shot')\n",
    "plt.bar(r2, rag_counts, color=colormap(0.5), width=bar_width, edgecolor='black', label='RAG')\n",
    "plt.bar(r3, ic_counts, color=colormap(0.8), width=bar_width, edgecolor='black', label='RAG+In-context learning')\n",
    "\n",
    "plt.xlabel('# of Characters')\n",
    "plt.ylabel('Count')\n",
    "plt.xticks([r + bar_width for r in range(len(keys))], keys)\n",
    "plt.legend()\n",
    "plt.show()"
   ]
  },
  {
   "cell_type": "code",
   "execution_count": 39,
   "metadata": {},
   "outputs": [
    {
     "name": "stderr",
     "output_type": "stream",
     "text": [
      "/tmp/ipykernel_912011/2166581585.py:18: MatplotlibDeprecationWarning: The get_cmap function was deprecated in Matplotlib 3.7 and will be removed two minor releases later. Use ``matplotlib.colormaps[name]`` or ``matplotlib.colormaps.get_cmap(obj)`` instead.\n",
      "  colormap = cm.get_cmap('tab20')\n"
     ]
    },
    {
     "data": {
      "image/png": "[encoded data removed]",
      "text/plain": [
       "<Figure size 700x600 with 3 Axes>"
      ]
     },
     "metadata": {},
     "output_type": "display_data"
    }
   ],
   "source": [
    "import matplotlib.pyplot as plt\n",
    "import matplotlib.cm as cm\n",
    "\n",
    "bar_width = 0.5\n",
    "keys = ['≤10'] + list(range(-9, 10)) + ['≥10']\n",
    "\n",
    "zs_counts = [zs_cx.get(key, 0) for key in keys]\n",
    "rag_counts = [rag_cx.get(key, 0) for key in keys]\n",
    "ic_counts = [ic_cx.get(key, 0) for key in keys]\n",
    "str_keys = [str(key) for key in keys]\n",
    "\n",
    "\n",
    "plt.figure(figsize=(7, 6))\n",
    "colormap = cm.get_cmap('tab20')\n",
    "\n",
    "ax1 = plt.subplot(311)\n",
    "ax2 = plt.subplot(312)\n",
    "ax3 = plt.subplot(313)\n",
    "\n",
    "ax1.bar(str_keys, zs_counts, color=colormap(0.2), edgecolor='black', label='Zero Shot')\n",
    "ax1.set_ylabel('Count')\n",
    "ax1.set_title('Zero Shot')\n",
    "ax1.set_xticklabels([])\n",
    "ax1.set_ylim(0, 36)\n",
    "\n",
    "ax2.bar(str_keys, rag_counts, color=colormap(0.5), edgecolor='black', label='RAG')\n",
    "ax2.set_ylabel('Count')\n",
    "ax2.set_title('RAG')\n",
    "ax2.set_xticklabels([])\n",
    "ax2.set_ylim(0, 36)\n",
    "\n",
    "ax3.bar(str_keys, ic_counts, color=colormap(0.8), edgecolor='black', label='RAG+In-context Learning')\n",
    "ax3.set_ylabel('Count')\n",
    "ax3.set_xlabel('# of Characters')\n",
    "ax3.set_title('RAG + In-context Learning')\n",
    "ax3.set_ylim(0, 36)\n",
    "\n",
    "plt.tight_layout()\n",
    "plt.savefig('length_differences.pdf')\n",
    "plt.show()"
   ]
  },
  {
   "cell_type": "markdown",
   "metadata": {},
   "source": [
    "# Additional RAG examples"
   ]
  },
  {
   "cell_type": "code",
   "execution_count": 15,
   "metadata": {},
   "outputs": [],
   "source": [
    "iphi = json.load(open('data/iphi.json', 'r'))"
   ]
  },
  {
   "cell_type": "code",
   "execution_count": 29,
   "metadata": {},
   "outputs": [],
   "source": [
    "positive = {234723:{},\n",
    "            344333:{},\n",
    "            793:{}}\n",
    "\n",
    "positive[234723]['text'] = '— — c.12 — —α̣ῖος ⋮ ἀνέθεκεν [⋮ τἀθεναίαι] δεκάτεν |\tἜν̣[δοιος ἐποίεσ]εν.'\n",
    "positive[234723]['masked'] = ['— — c.12 — —α̣ῖος ⋮ ???????? [⋮ τἀθεναίαι] δεκάτεν |\tἜν̣[δοιος ἐποίεσ]εν.',\n",
    "                              '— — c.12 — —α̣ῖος ⋮ ἀνέθεκεν [⋮ ?????????] δεκάτεν |\tἜν̣[δοιος ἐποίεσ]εν.',\n",
    "                              '— — c.12 — —α̣ῖος ⋮ ἀνέθεκεν [⋮ τἀθεναίαι] δεκάτεν |\tἜν̣[δοιος ?????????.']\n",
    "positive[234723]['context'] = ['— —c.12— —ς ἔθεκαν̣ / [αὐ]τ̣οὶ τεύχσαντες πατρὶ χ[α]ριζόμενοι.',\n",
    "                               '[— —]ροˉν ἀνέθεˉκε τοῖ Ἀπόλοˉνι τοῖ Πτοˉϊε͂ι [— —]οτος ἐποίϝεˉσε.',\n",
    "                               'Ἐπιχαρῖνος ἀ̣ν̣έ̣θ̣ε̣κ̣εν ℎθοοσ[— —] Κριτίος καὶ Νεσιότες ἐπο[ιε]σ̣άτεν.']\n",
    "\n",
    "positive[344333]['text'] = 'Αἐάκης ἀνέθηκεν ὁ Βρύχωνος ⋮ ὃς τῆι Ἥρηι ⋮ τὴν σύλην ⋮ ἔπρησεν ⋮ κατὰ τὴν ἐπίστασιν.'\n",
    "positive[344333]['masked'] = ['Αἐάκης ???????? ὁ Βρύχωνος ⋮ ὃς τῆι Ἥρηι ⋮ τὴν σύλην ⋮ ἔπρησεν ⋮ κατὰ τὴν ἐπίστασιν.',\n",
    "                              'Αἐάκης ἀνέθηκεν ὁ Βρύχωνος ⋮ ὃς τῆι ???? ⋮ τὴν σύλην ⋮ ἔπρησεν ⋮ κατὰ τὴν ἐπίστασιν.',\n",
    "                              'Αἐάκης ἀνέθηκεν ὁ Βρύχωνος ⋮ ὃς τῆι Ἥρηι ⋮ τὴν σύλην ⋮ ἔπρησεν ⋮ ???? τὴν ἐπίστασιν.',\n",
    "                              'Αἐάκης ἀνέθηκεν ὁ Βρύχωνος ⋮ ὃς τῆι Ἥρηι ⋮ τὴν σύλην ⋮ ἔπρησεν ⋮ κατὰ τὴν ?????????.']\n",
    "positive[344333]['context'] = ['Ἀθεˉναίεˉ. ℎεˉρακλε͂ς. Γεˉρυόνεˉς. Ἀθεˉν[αίεˉ]. Περσεύς. Νεˉίδε[ς].',\n",
    "                               '[— c.5 —]ος ἀν[έθεκεν ℎο Πολ]υγνότο [τε͂ι Ἀθ]εναία[ι]. [τε͂ι Ἀθ]εναία[ι ἀπαρχέν].',\n",
    "                               'Ἀμειν[ίας ἀνέθεκ]ε τἀθεναίαι. Γοργ̣[ίας ἐποίεσ]εν.']\n",
    "\n",
    "positive[793]['text'] ='χοἱ παῖδ̣[ες] Ἐπιχάρες Ὀφολονίδες [Χ]αρῖνος [Χ]αρίσιος [—c.6—]κλε͂ς [τ]ἀ̣[θεναίαι(-)] ἀπαρχὲν [ἀνέ]θεσαν.'\n",
    "positive[793]['masked'] = ['χοἱ παῖδ̣[ες] Ἐπιχάρες Ὀφολονίδες [Χ]αρῖνος [Χ]αρίσιος [—c.6—]κλε͂ς [???????????(-)] ἀπαρχὲν [ἀνέ]θεσαν.',\n",
    "                           'χοἱ παῖδ̣[ες] Ἐπιχάρες Ὀφολονίδες [Χ]αρῖνος [Χ]αρίσιος [—c.6—]κλε͂ς [τ]ἀ̣[θεναίαι(-)] ??????? [ἀνέ]θεσαν.',\n",
    "                           'χοἱ παῖδ̣[ες] Ἐπιχάρες Ὀφολονίδες [Χ]αρῖνος [Χ]αρίσιος [—c.6—]κλε͂ς [τ]ἀ̣[θεναίαι(-)] ἀπαρχὲν [?????????.']\n",
    "positive[793]['context'] = ['— — —ς ἀ[νέθεκεν(?) — — —]. [Κρ]ι̣τίος ∶ καὶ Νε[σιότες ∶ ἐποιεσάτεν].',\n",
    "                            '—c.5—ος ἀν[έθεκεν(?) ℎο Πολ]υγνότο [τε͂ι Ἀθ]εναία[ι δεκάτεν].',\n",
    "                            'το̣ι— — — — — —ν ⋮ καὶ ⋮ Ἀ̣λεξιτίδης ⋮ ἀν[έ]θ̣ε̣σ̣α̣ν̣ ․․․ιοι ⋮ Ἀ̣πόλονι.']\n",
    "\n",
    "negative = {338563: {},\n",
    "            353513: {},\n",
    "            62393: {}}\n",
    "\n",
    "negative[338563]['text'] = 'καὶ Ματασυ ε<ἰ> δέ τι αὐτῶι τε κἀναξαγόρῃ αὐτοὶ καὶ τὸˉς ἀδε<λ>φεόˉς, <ε>ἴ ἐσσιν ἐν Ἀρβινάτηισιν ἄγεˉν ἐς τὴμ πόλιν αὐτὸς δέ γ̣’ ὁ νεοˉρὸς ἐλθὼμ παρά μιν <ἰ>θύωρα καταβήσεται'\n",
    "negative[338563]['masked'] = ['καὶ Ματασυ ε<ἰ> δέ τι αὐτῶι τε ?????????? αὐτοὶ καὶ τὸˉς ἀδε<λ>φεόˉς, <ε>ἴ ἐσσιν ἐν Ἀρβινάτηισιν ἄγεˉν ἐς τὴμ πόλιν αὐτὸς δέ γ̣’ ὁ νεοˉρὸς ἐλθὼμ παρά μιν <ἰ>θύωρα καταβήσεται',\n",
    "                              'καὶ Ματασυ ε<ἰ> δέ τι αὐτῶι τε κἀναξαγόρῃ αὐτοὶ καὶ τὸˉς ἀδε<λ>φεόˉς, <ε>ἴ ????? ἐν Ἀρβινάτηισιν ἄγεˉν ἐς τὴμ πόλιν αὐτὸς δέ γ̣’ ὁ νεοˉρὸς ἐλθὼμ παρά μιν <ἰ>θύωρα καταβήσεται',\n",
    "                              'καὶ Ματασυ ε<ἰ> δέ τι αὐτῶι τε κἀναξαγόρῃ αὐτοὶ καὶ τὸˉς ἀδε<λ>φεόˉς, <ε>ἴ ἐσσιν ἐν Ἀρβινάτηισιν ἄγεˉν ἐς τὴμ πόλιν αὐτὸς δέ γ̣’ ὁ νεοˉρὸς ἐλθὼμ παρά μιν <ἰ>θύωρα ???????????']\n",
    "negative[338563]['context'] = ['κ λ μ ν ξ ο π ϙ σ κ λ μ ν ξ ο ξ ν μ λ κ ι ρ ϙ π ο ξ ν κ.',\n",
    "                                    'σᾶμα τόζ’ Ἰδαμενεὺς ποίησα ℎίνα Κλεˉο͂ς εἴη· Ζεὺ δέ νιν, ὄστις πημαίνοι, λειοˉλη θείε',\n",
    "                                    '[— —]ροˉν ἀνέθεˉκε τοῖ Ἀπόλοˉνι τοῖ Πτοˉϊε͂ι [— —]οτος ἐποίϝεˉσε']\n",
    "\n",
    "negative[353513]['text'] = 'Πηδωμ μ’ ἀνέθηκεν ὠμφίννεω ⋮ ἐξ Αἰγύπτὠγαγών ⋮ ϙῶι βασιλεὺς ἔδωϙ’ ὠιγύπτιος ⋮ Ψαμμήτιχος ⋮ ἀριστήιια ψίλιόν τε χρύσεογ καὶ πόλιν ἀρετῆς ἔνεκα.'\n",
    "negative[353513]['masked'] = ['Πηδωμ μ’ ???????? ὠμφίννεω ⋮ ἐξ Αἰγύπτὠγαγών ⋮ ϙῶι βασιλεὺς ἔδωϙ’ ὠιγύπτιος ⋮ Ψαμμήτιχος ⋮ ἀριστήιια ψίλιόν τε χρύσεογ καὶ πόλιν ἀρετῆς ἔνεκα.',\n",
    "                              'Πηδωμ μ’ ἀνέθηκεν ὠμφίννεω ⋮ ἐξ Αἰγύπτὠγαγών ⋮ ϙῶι ???????? ἔδωϙ’ ὠιγύπτιος ⋮ Ψαμμήτιχος ⋮ ἀριστήιια ψίλιόν τε χρύσεογ καὶ πόλιν ἀρετῆς ἔνεκα.',\n",
    "                              'Πηδωμ μ’ ἀνέθηκεν ὠμφίννεω ⋮ ἐξ Αἰγύπτὠγαγών ⋮ ϙῶι βασιλεὺς ἔδωϙ’ ὠιγύπτιος ⋮ Ψαμμήτιχος ⋮ ????????? ψίλιόν τε χρύσεογ καὶ πόλιν ἀρετῆς ἔνεκα.',\n",
    "                              'Πηδωμ μ’ ἀνέθηκεν ὠμφίννεω ⋮ ἐξ Αἰγύπτὠγαγών ⋮ ϙῶι βασιλεὺς ἔδωϙ’ ὠιγύπτιος ⋮ Ψαμμήτιχος ⋮ ἀριστήιια ψίλιόν τε χρύσεογ καὶ ????? ἀρετῆς ἔνεκα.']\n",
    "negative[353513]['context'] = ['εὐχὰν ἐκκτελέσαντι Διοˉνύσοι Νεομέˉδεˉς ἔργοˉν ἀντ’ ἀγαθο͂ν μνᾶμ’ ἀνέθεˉκε τόδε',\n",
    "                               '[ὁ δεῖνα ἀνέθ]εκεν [δ]εκάτ|εν τἀθενά|αι.',\n",
    "                               'σε͂μα τόδε ∶ Τύμ[νεο] Καρὸς το͂ Σκύλ[ακος]. [Ἀ]ριστοκλε͂ς ἐπ[οίει]']\n",
    "\n",
    "negative[62393]['text'] = 'Νικάνδρη μ’ ἀνέθεˉκεν ℎ(ε)κηβόλοˉι ἰοχεαίρηι | ϙόˉρη Δεινοδίκη˘οˉ το͂ Ναℎσίοˉ  ἔℎσοχος ἀλ(λ)ή˘οˉν | Δεινομένεος δὲ κασιγνέˉτη Φℎράℎσοˉ δ’ ἄλοχος μ[ήν]'\n",
    "negative[62393]['masked'] = ['Νικάνδρη μ’ ????????? ℎ(ε)κηβόλοˉι ἰοχεαίρηι | ϙόˉρη Δεινοδίκη˘οˉ το͂ Ναℎσίοˉ  ἔℎσοχος ἀλ(λ)ή˘οˉν | Δεινομένεος δὲ κασιγνέˉτη Φℎράℎσοˉ δ’ ἄλοχος μ[ήν]',\n",
    "                             'Νικάνδρη μ’ ἀνέθεˉκεν ℎ(ε)κηβόλοˉι ἰοχεαίρηι | ϙόˉρη Δεινοδίκη˘οˉ το͂ ???????  ἔℎσοχος ἀλ(λ)ή˘οˉν | Δεινομένεος δὲ κασιγνέˉτη Φℎράℎσοˉ δ’ ἄλοχος μ[ήν]',\n",
    "                             'Νικάνδρη μ’ ἀνέθεˉκεν ℎ(ε)κηβόλοˉι ἰοχεαίρηι | ϙόˉρη Δεινοδίκη˘οˉ το͂ Ναℎσίοˉ  ??????? ἀλ(λ)ή˘οˉν | Δεινομένεος δὲ κασιγνέˉτη Φℎράℎσοˉ δ’ ἄλοχος μ[ήν]',\n",
    "                             'Νικάνδρη μ’ ἀνέθεˉκεν ℎ(ε)κηβόλοˉι ἰοχεαίρηι | ϙόˉρη Δεινοδίκη˘οˉ το͂ Ναℎσίοˉ  ἔℎσοχος ἀλ(λ)ή˘οˉν | Δεινομένεος δὲ ?????????? Φℎράℎσοˉ δ’ ἄλοχος μ[ήν]']\n",
    "negative[62393]['context'] = ['μνᾶμ’ ἐμὶ Πυριάδα {²⁶Πυρριάδα}²⁶, ℎὸς οὐκ ἐˉπ̣ί̣στατο φεύγεˉν / ἀλ’ {²⁶ἀλλ’}²⁶ αὖθε πὲρ γᾶς τᾶσδε πολὸν {²⁶πολλὸν}²⁶ ἀριστεύοˉν ἔθανε',\n",
    "                              'Ἀντίεˉς. Μόλπεˉ. Δάσοˉν. Κλυτό̄. ℎιππαῖος. Ξανθόˉ. Δόρκις. Χόρα. Ὀϝατίεˉς. Μυρόˉ. [Σ]ῖμος. Ϝιόˉ',\n",
    "                              'Πυθίας ὁκραιφ[ιεὺς] καὶ Α<ἰ>σχρίον ἀνε̣[θέταν(?)] φιλ̣[⏔ – ⏔ – ⏔ – ⏔ – ⏑ ⏑ – –] Πτοι[ε͂ϊ – – ἀργ]υ̣ροτόχσοι']"
   ]
  },
  {
   "cell_type": "code",
   "execution_count": 30,
   "metadata": {},
   "outputs": [],
   "source": [
    "class RAG_examples(dspy.Module):\n",
    "    def __init__(self, num_passages=3):\n",
    "        super().__init__()\n",
    "\n",
    "        #self.retrieve = dspy.Retrieve(k=num_passages) \n",
    "        self.generate_answer = dspy.Predict(BasicRestoration)\n",
    "    \n",
    "    def forward(self, phi_id, mask_id, data):\n",
    "        question = data[phi_id]['masked'][mask_id]\n",
    "        inscription = question\n",
    "        context = data[phi_id]['context']\n",
    "\n",
    "        prediction = self.generate_answer(context=context, inscription=inscription)\n",
    "        return dspy.Prediction(context=context, restoration=prediction.restoration)"
   ]
  },
  {
   "cell_type": "code",
   "execution_count": 31,
   "metadata": {},
   "outputs": [],
   "source": [
    "rag_examples = RAG_examples()"
   ]
  },
  {
   "cell_type": "code",
   "execution_count": 45,
   "metadata": {},
   "outputs": [
    {
     "name": "stdout",
     "output_type": "stream",
     "text": [
      "==================================== 1 ====================================\n",
      "1)\n",
      "Prediction(\n",
      "    context=['— —c.12— —ς ἔθεκαν̣ / [αὐ]τ̣οὶ τεύχσαντες πατρὶ χ[α]ριζόμενοι.', '[— —]ροˉν ἀνέθεˉκε τοῖ Ἀπόλοˉνι τοῖ Πτοˉϊε͂ι [— —]οτος ἐποίϝεˉσε.', 'Ἐπιχαρῖνος ἀ̣ν̣έ̣θ̣ε̣κ̣εν ℎθοοσ[— —] Κριτίος καὶ Νεσιότες ἐπο[ιε]σ̣άτεν.'],\n",
      "    restoration='τἀθεναίαι'\n",
      ")\n",
      ">ground truth: ἀνέθεκεν\n",
      ">restoration: τἀθεναίαι\n",
      "\n",
      "\n",
      "2)\n",
      "Prediction(\n",
      "    context=['— —c.12— —ς ἔθεκαν̣ / [αὐ]τ̣οὶ τεύχσαντες πατρὶ χ[α]ριζόμενοι.', '[— —]ροˉν ἀνέθεˉκε τοῖ Ἀπόλοˉνι τοῖ Πτοˉϊε͂ι [— —]οτος ἐποίϝεˉσε.', 'Ἐπιχαρῖνος ἀ̣ν̣έ̣θ̣ε̣κ̣εν ℎθοοσ[— —] Κριτίος καὶ Νεσιότες ἐπο[ιε]σ̣άτεν.'],\n",
      "    restoration='ἱερεῖ'\n",
      ")\n",
      ">ground truth: τἀθεναίαι\n",
      ">restoration: ἱερεῖ\n",
      "\n",
      "\n",
      "3)\n",
      "Prediction(\n",
      "    context=['— —c.12— —ς ἔθεκαν̣ / [αὐ]τ̣οὶ τεύχσαντες πατρὶ χ[α]ριζόμενοι.', '[— —]ροˉν ἀνέθεˉκε τοῖ Ἀπόλοˉνι τοῖ Πτοˉϊε͂ι [— —]οτος ἐποίϝεˉσε.', 'Ἐπιχαρῖνος ἀ̣ν̣έ̣θ̣ε̣κ̣εν ℎθοοσ[— —] Κριτίος καὶ Νεσιότες ἐπο[ιε]σ̣άτεν.'],\n",
      "    restoration='Ἔνδοιος Ἀπόλλωνος'\n",
      ")\n",
      ">ground truth: ἐποίεσ]εν\n",
      ">restoration: Ἔνδοιος Ἀπόλλωνος\n",
      "\n",
      "\n",
      "==================================== 2 ====================================\n",
      "1)\n",
      "Prediction(\n",
      "    context=['Ἀθεˉναίεˉ. ℎεˉρακλε͂ς. Γεˉρυόνεˉς. Ἀθεˉν[αίεˉ]. Περσεύς. Νεˉίδε[ς].', '[— c.5 —]ος ἀν[έθεκεν ℎο Πολ]υγνότο [τε͂ι Ἀθ]εναία[ι]. [τε͂ι Ἀθ]εναία[ι ἀπαρχέν].', 'Ἀμειν[ίας ἀνέθεκ]ε τἀθεναίαι. Γοργ̣[ίας ἐποίεσ]εν.'],\n",
      "    restoration='ἀνεστάλη'\n",
      ")\n",
      ">ground truth: ἀνέθηκεν\n",
      ">restoration: ἀνεστάλη\n",
      "\n",
      "\n",
      "2)\n",
      "Prediction(\n",
      "    context=['Ἀθεˉναίεˉ. ℎεˉρακλε͂ς. Γεˉρυόνεˉς. Ἀθεˉν[αίεˉ]. Περσεύς. Νεˉίδε[ς].', '[— c.5 —]ος ἀν[έθεκεν ℎο Πολ]υγνότο [τε͂ι Ἀθ]εναία[ι]. [τε͂ι Ἀθ]εναία[ι ἀπαρχέν].', 'Ἀμειν[ίας ἀνέθεκ]ε τἀθεναίαι. Γοργ̣[ίας ἐποίεσ]εν.'],\n",
      "    restoration='θεάν'\n",
      ")\n",
      ">ground truth: Ἥρηι\n",
      ">restoration: θεάν\n",
      "\n",
      "\n",
      "3)\n",
      "Prediction(\n",
      "    context=['Ἀθεˉναίεˉ. ℎεˉρακλε͂ς. Γεˉρυόνεˉς. Ἀθεˉν[αίεˉ]. Περσεύς. Νεˉίδε[ς].', '[— c.5 —]ος ἀν[έθεκεν ℎο Πολ]υγνότο [τε͂ι Ἀθ]εναία[ι]. [τε͂ι Ἀθ]εναία[ι ἀπαρχέν].', 'Ἀμειν[ίας ἀνέθεκ]ε τἀθεναίαι. Γοργ̣[ίας ἐποίεσ]εν.'],\n",
      "    restoration='καλόν'\n",
      ")\n",
      ">ground truth: κατὰ\n",
      ">restoration: καλόν\n",
      "\n",
      "\n",
      "4)\n",
      "Prediction(\n",
      "    context=['Ἀθεˉναίεˉ. ℎεˉρακλε͂ς. Γεˉρυόνεˉς. Ἀθεˉν[αίεˉ]. Περσεύς. Νεˉίδε[ς].', '[— c.5 —]ος ἀν[έθεκεν ℎο Πολ]υγνότο [τε͂ι Ἀθ]εναία[ι]. [τε͂ι Ἀθ]εναία[ι ἀπαρχέν].', 'Ἀμειν[ίας ἀνέθεκ]ε τἀθεναίαι. Γοργ̣[ίας ἐποίεσ]εν.'],\n",
      "    restoration='νήσωι'\n",
      ")\n",
      ">ground truth: ἐπίστασιν\n",
      ">restoration: νήσωι\n",
      "\n",
      "\n",
      "==================================== 3 ====================================\n",
      "1)\n",
      "Prediction(\n",
      "    context=['— — —ς ἀ[νέθεκεν(?) — — —]. [Κρ]ι̣τίος ∶ καὶ Νε[σιότες ∶ ἐποιεσάτεν].', '—c.5—ος ἀν[έθεκεν(?) ℎο Πολ]υγνότο [τε͂ι Ἀθ]εναία[ι δεκάτεν].', 'το̣ι— — — — — —ν ⋮ καὶ ⋮ Ἀ̣λεξιτίδης ⋮ ἀν[έ]θ̣ε̣σ̣α̣ν̣ ․․․ιοι ⋮ Ἀ̣πόλονι.'],\n",
      "    restoration='καὶ τοὺς ἑταίρους'\n",
      ")\n",
      ">ground truth: τ]ἀ̣[θεναία\n",
      ">restoration: καὶ τοὺς ἑταίρους\n",
      "\n",
      "\n",
      "2)\n",
      "Prediction(\n",
      "    context=['— — —ς ἀ[νέθεκεν(?) — — —]. [Κρ]ι̣τίος ∶ καὶ Νε[σιότες ∶ ἐποιεσάτεν].', '—c.5—ος ἀν[έθεκεν(?) ℎο Πολ]υγνότο [τε͂ι Ἀθ]εναία[ι δεκάτεν].', 'το̣ι— — — — — —ν ⋮ καὶ ⋮ Ἀ̣λεξιτίδης ⋮ ἀν[έ]θ̣ε̣σ̣α̣ν̣ ․․․ιοι ⋮ Ἀ̣πόλονι.'],\n",
      "    restoration='καὶ τιμήν'\n",
      ")\n",
      ">ground truth: ἀπαρχὲν\n",
      ">restoration: καὶ τιμήν\n",
      "\n",
      "\n",
      "3)\n",
      "Prediction(\n",
      "    context=['— — —ς ἀ[νέθεκεν(?) — — —]. [Κρ]ι̣τίος ∶ καὶ Νε[σιότες ∶ ἐποιεσάτεν].', '—c.5—ος ἀν[έθεκεν(?) ℎο Πολ]υγνότο [τε͂ι Ἀθ]εναία[ι δεκάτεν].', 'το̣ι— — — — — —ν ⋮ καὶ ⋮ Ἀ̣λεξιτίδης ⋮ ἀν[έ]θ̣ε̣σ̣α̣ν̣ ․․․ιοι ⋮ Ἀ̣πόλονι.'],\n",
      "    restoration='τεοιοι'\n",
      ")\n",
      ">ground truth: ἀνέ]θεσαν\n",
      ">restoration: τεοιοι\n",
      "\n",
      "\n"
     ]
    }
   ],
   "source": [
    "for idx, phi_id in enumerate([234723, 344333, 793]):\n",
    "    for p in range(0,len(positive[phi_id]['masked'])):\n",
    "        current = positive[phi_id]['masked'][p]\n",
    "        i = current.index('?')\n",
    "        n = current.count('?')\n",
    "        \n",
    "        gt = positive[phi_id]['text'][i:i+n]\n",
    "        if p == 0:\n",
    "            print(f'==================================== {idx+1} ====================================')\n",
    "\n",
    "        pred = rag_examples.forward(phi_id, p, positive)\n",
    "        restoration = pred.restoration\n",
    "        print(f'{p+1})')\n",
    "        print(pred)\n",
    "        print(f\">ground truth: {gt}\\n>restoration: {restoration}\\n\\n\")"
   ]
  },
  {
   "cell_type": "code",
   "execution_count": 44,
   "metadata": {},
   "outputs": [
    {
     "name": "stdout",
     "output_type": "stream",
     "text": [
      "==================================== 1 ====================================\n",
      "1)\n",
      "Prediction(\n",
      "    context=['κ λ μ ν ξ ο π ϙ σ κ λ μ ν ξ ο ξ ν μ λ κ ι ρ ϙ π ο ξ ν κ.', 'σᾶμα τόζ’ Ἰδαμενεὺς ποίησα ℎίνα Κλεˉο͂ς εἴη· Ζεὺ δέ νιν, ὄστις πημαίνοι, λειοˉλη θείε', '[— —]ροˉν ἀνέθεˉκε τοῖ Ἀπόλοˉνι τοῖ Πτοˉϊε͂ι [— —]οτος ἐποίϝεˉσε'],\n",
      "    restoration='καὶ Ματασυ εἰ δέ τι αὐ'\n",
      ")\n",
      ">ground truth: κἀναξαγόρῃ\n",
      ">restoration: καὶ Ματασυ εἰ δέ τι αὐ\n",
      "\n",
      "\n",
      "2)\n",
      "Prediction(\n",
      "    context=['κ λ μ ν ξ ο π ϙ σ κ λ μ ν ξ ο ξ ν μ λ κ ι ρ ϙ π ο ξ ν κ.', 'σᾶμα τόζ’ Ἰδαμενεὺς ποίησα ℎίνα Κλεˉο͂ς εἴη· Ζεὺ δέ νιν, ὄστις πημαίνοι, λειοˉλη θείε', '[— —]ροˉν ἀνέθεˉκε τοῖ Ἀπόλοˉνι τοῖ Πτοˉϊε͂ι [— —]οτος ἐποίϝεˉσε'],\n",
      "    restoration='καὶ Ματασυ εἰ δέ τι αὐ'\n",
      ")\n",
      ">ground truth: ἐσσιν\n",
      ">restoration: καὶ Ματασυ εἰ δέ τι αὐ\n",
      "\n",
      "\n",
      "3)\n",
      "Prediction(\n",
      "    context=['κ λ μ ν ξ ο π ϙ σ κ λ μ ν ξ ο ξ ν μ λ κ ι ρ ϙ π ο ξ ν κ.', 'σᾶμα τόζ’ Ἰδαμενεὺς ποίησα ℎίνα Κλεˉο͂ς εἴη· Ζεὺ δέ νιν, ὄστις πημαίνοι, λειοˉλη θείε', '[— —]ροˉν ἀνέθεˉκε τοῖ Ἀπόλοˉνι τοῖ Πτοˉϊε͂ι [— —]οτος ἐποίϝεˉσε'],\n",
      "    restoration='προσήκει'\n",
      ")\n",
      ">ground truth: καταβήσεται\n",
      ">restoration: προσήκει\n",
      "\n",
      "\n",
      "==================================== 2 ====================================\n",
      "1)\n",
      "Prediction(\n",
      "    context=['εὐχὰν ἐκκτελέσαντι Διοˉνύσοι Νεομέˉδεˉς ἔργοˉν ἀντ’ ἀγαθο͂ν μνᾶμ’ ἀνέθεˉκε τόδε', '[ὁ δεῖνα ἀνέθ]εκεν [δ]εκάτ|εν τἀθενά|αι.', 'σε͂μα τόδε ∶ Τύμ[νεο] Καρὸς το͂ Σκύλ[ακος]. [Ἀ]ριστοκλε͂ς ἐπ[οίει]'],\n",
      "    restoration='Πηδωμένος'\n",
      ")\n",
      ">ground truth: ἀνέθηκεν\n",
      ">restoration: Πηδωμένος\n",
      "\n",
      "\n",
      "2)\n",
      "Prediction(\n",
      "    context=['εὐχὰν ἐκκτελέσαντι Διοˉνύσοι Νεομέˉδεˉς ἔργοˉν ἀντ’ ἀγαθο͂ν μνᾶμ’ ἀνέθεˉκε τόδε', '[ὁ δεῖνα ἀνέθ]εκεν [δ]εκάτ|εν τἀθενά|αι.', 'σε͂μα τόδε ∶ Τύμ[νεο] Καρὸς το͂ Σκύλ[ακος]. [Ἀ]ριστοκλε͂ς ἐπ[οίει]'],\n",
      "    restoration='ϙῶι ϙυρτίωι'\n",
      ")\n",
      ">ground truth: βασιλεὺς\n",
      ">restoration: ϙῶι ϙυρτίωι\n",
      "\n",
      "\n",
      "3)\n",
      "Prediction(\n",
      "    context=['εὐχὰν ἐκκτελέσαντι Διοˉνύσοι Νεομέˉδεˉς ἔργοˉν ἀντ’ ἀγαθο͂ν μνᾶμ’ ἀνέθεˉκε τόδε', '[ὁ δεῖνα ἀνέθ]εκεν [δ]εκάτ|εν τἀθενά|αι.', 'σε͂μα τόδε ∶ Τύμ[νεο] Καρὸς το͂ Σκύλ[ακος]. [Ἀ]ριστοκλε͂ς ἐπ[οίει]'],\n",
      "    restoration='ἀνδρί'\n",
      ")\n",
      ">ground truth: ἀριστήιια\n",
      ">restoration: ἀνδρί\n",
      "\n",
      "\n",
      "4)\n",
      "Prediction(\n",
      "    context=['εὐχὰν ἐκκτελέσαντι Διοˉνύσοι Νεομέˉδεˉς ἔργοˉν ἀντ’ ἀγαθο͂ν μνᾶμ’ ἀνέθεˉκε τόδε', '[ὁ δεῖνα ἀνέθ]εκεν [δ]εκάτ|εν τἀθενά|αι.', 'σε͂μα τόδε ∶ Τύμ[νεο] Καρὸς το͂ Σκύλ[ακος]. [Ἀ]ριστοκλε͂ς ἐπ[οίει]'],\n",
      "    restoration='ἀνδρός'\n",
      ")\n",
      ">ground truth: πόλιν\n",
      ">restoration: ἀνδρός\n",
      "\n",
      "\n",
      "==================================== 3 ====================================\n",
      "1)\n",
      "Prediction(\n",
      "    context=['μνᾶμ’ ἐμὶ Πυριάδα {²⁶Πυρριάδα}²⁶, ℎὸς οὐκ ἐˉπ̣ί̣στατο φεύγεˉν / ἀλ’ {²⁶ἀλλ’}²⁶ αὖθε πὲρ γᾶς τᾶσδε πολὸν {²⁶πολλὸν}²⁶ ἀριστεύοˉν ἔθανε', 'Ἀντίεˉς. Μόλπεˉ. Δάσοˉν. Κλυτό̄. ℎιππαῖος. Ξανθόˉ. Δόρκις. Χόρα. Ὀϝατίεˉς. Μυρόˉ. [Σ]ῖμος. Ϝιόˉ', 'Πυθίας ὁκραιφ[ιεὺς] καὶ Α<ἰ>σχρίον ἀνε̣[θέταν(?)] φιλ̣[⏔ – ⏔ – ⏔ – ⏔ – ⏑ ⏑ – –] Πτοι[ε͂ϊ – – ἀργ]υ̣ροτόχσοι'],\n",
      "    restoration=''\n",
      ")\n",
      ">ground truth: ἀνέθεˉκεν\n",
      ">restoration: \n",
      "\n",
      "\n",
      "2)\n",
      "Prediction(\n",
      "    context=['μνᾶμ’ ἐμὶ Πυριάδα {²⁶Πυρριάδα}²⁶, ℎὸς οὐκ ἐˉπ̣ί̣στατο φεύγεˉν / ἀλ’ {²⁶ἀλλ’}²⁶ αὖθε πὲρ γᾶς τᾶσδε πολὸν {²⁶πολλὸν}²⁶ ἀριστεύοˉν ἔθανε', 'Ἀντίεˉς. Μόλπεˉ. Δάσοˉν. Κλυτό̄. ℎιππαῖος. Ξανθόˉ. Δόρκις. Χόρα. Ὀϝατίεˉς. Μυρόˉ. [Σ]ῖμος. Ϝιόˉ', 'Πυθίας ὁκραιφ[ιεὺς] καὶ Α<ἰ>σχρίον ἀνε̣[θέταν(?)] φιλ̣[⏔ – ⏔ – ⏔ – ⏔ – ⏑ ⏑ – –] Πτοι[ε͂ϊ – – ἀργ]υ̣ροτόχσοι'],\n",
      "    restoration='Δεινοδίκηου'\n",
      ")\n",
      ">ground truth: Ναℎσίοˉ\n",
      ">restoration: Δεινοδίκηου\n",
      "\n",
      "\n",
      "3)\n",
      "Prediction(\n",
      "    context=['μνᾶμ’ ἐμὶ Πυριάδα {²⁶Πυρριάδα}²⁶, ℎὸς οὐκ ἐˉπ̣ί̣στατο φεύγεˉν / ἀλ’ {²⁶ἀλλ’}²⁶ αὖθε πὲρ γᾶς τᾶσδε πολὸν {²⁶πολλὸν}²⁶ ἀριστεύοˉν ἔθανε', 'Ἀντίεˉς. Μόλπεˉ. Δάσοˉν. Κλυτό̄. ℎιππαῖος. Ξανθόˉ. Δόρκις. Χόρα. Ὀϝατίεˉς. Μυρόˉ. [Σ]ῖμος. Ϝιόˉ', 'Πυθίας ὁκραιφ[ιεὺς] καὶ Α<ἰ>σχρίον ἀνε̣[θέταν(?)] φιλ̣[⏔ – ⏔ – ⏔ – ⏔ – ⏑ ⏑ – –] Πτοι[ε͂ϊ – – ἀργ]υ̣ροτόχσοι'],\n",
      "    restoration='το͂ πατρόϛ'\n",
      ")\n",
      ">ground truth: ἔℎσοχος\n",
      ">restoration: το͂ πατρόϛ\n",
      "\n",
      "\n",
      "4)\n",
      "Prediction(\n",
      "    context=['μνᾶμ’ ἐμὶ Πυριάδα {²⁶Πυρριάδα}²⁶, ℎὸς οὐκ ἐˉπ̣ί̣στατο φεύγεˉν / ἀλ’ {²⁶ἀλλ’}²⁶ αὖθε πὲρ γᾶς τᾶσδε πολὸν {²⁶πολλὸν}²⁶ ἀριστεύοˉν ἔθανε', 'Ἀντίεˉς. Μόλπεˉ. Δάσοˉν. Κλυτό̄. ℎιππαῖος. Ξανθόˉ. Δόρκις. Χόρα. Ὀϝατίεˉς. Μυρόˉ. [Σ]ῖμος. Ϝιόˉ', 'Πυθίας ὁκραιφ[ιεὺς] καὶ Α<ἰ>σχρίον ἀνε̣[θέταν(?)] φιλ̣[⏔ – ⏔ – ⏔ – ⏔ – ⏑ ⏑ – –] Πτοι[ε͂ϊ – – ἀργ]υ̣ροτόχσοι'],\n",
      "    restoration='Πυθίας ὁκραιφ[ιεὺς]'\n",
      ")\n",
      ">ground truth: κασιγνέˉτη\n",
      ">restoration: Πυθίας ὁκραιφ[ιεὺς]\n",
      "\n",
      "\n"
     ]
    }
   ],
   "source": [
    "for idx, phi_id in enumerate([338563, 353513, 62393]):\n",
    "    for p in range(0,len(negative[phi_id]['masked'])):\n",
    "        current = negative[phi_id]['masked'][p]\n",
    "        i = current.index('?')\n",
    "        n = current.count('?')\n",
    "        \n",
    "        gt = negative[phi_id]['text'][i:i+n]\n",
    "        \n",
    "        if p == 0:\n",
    "            print(f'==================================== {idx+1} ====================================')\n",
    "        pred = rag_examples.forward(phi_id, p, negative)\n",
    "        restoration = pred.restoration\n",
    "        print(f'{p+1})')\n",
    "        print(pred)\n",
    "        print(f\">ground truth: {gt}\\n>restoration: {restoration}\\n\\n\")"
   ]
  },
  {
   "cell_type": "code",
   "execution_count": null,
   "metadata": {},
   "outputs": [],
   "source": []
  }
 ],
 "metadata": {
  "kernelspec": {
   "display_name": "ancientGPT",
   "language": "python",
   "name": "python3"
  },
  "language_info": {
   "codemirror_mode": {
    "name": "ipython",
    "version": 3
   },
   "file_extension": ".py",
   "mimetype": "text/x-python",
   "name": "python",
   "nbconvert_exporter": "python",
   "pygments_lexer": "ipython3",
   "version": "3.9.18"
  }
 },
 "nbformat": 4,
 "nbformat_minor": 2
}
